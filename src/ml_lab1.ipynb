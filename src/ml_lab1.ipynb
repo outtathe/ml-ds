{
  "nbformat": 4,
  "nbformat_minor": 0,
  "metadata": {
    "colab": {
      "provenance": []
    },
    "kernelspec": {
      "name": "python3",
      "display_name": "Python 3"
    },
    "language_info": {
      "name": "python"
    }
  },
  "cells": [
    {
      "cell_type": "code",
      "source": [
        "import math\n",
        "from datetime import datetime, timedelta"
      ],
      "metadata": {
        "id": "dFg_k2pqZr-m"
      },
      "execution_count": 69,
      "outputs": []
    },
    {
      "cell_type": "markdown",
      "source": [
        "## 1. Базовые типы переменных"
      ],
      "metadata": {
        "id": "UzA_821IM43b"
      }
    },
    {
      "cell_type": "code",
      "execution_count": 70,
      "metadata": {
        "id": "owN4KrmoM2wy"
      },
      "outputs": [],
      "source": [
        "int_variable = 1 # int\n",
        "float_variable = 1.0 # float\n",
        "string_variable = \"hello world!\" # string\n",
        "bool_variable = True # bool\n",
        "list_variable = [1, 2, 4, \"boobs\"] # list\n",
        "tuple_variable = (\"i\", \"love\", \"my\", \"wife\") # tuple\n",
        "set_variable = {\"i\", \"love\", \"my\", \"car\"} # set\n",
        "dict_variable = {'key': 'value', 'value': 'key'} # dict"
      ]
    },
    {
      "cell_type": "code",
      "source": [
        "assert isinstance(int_variable, int)\n",
        "assert isinstance(float_variable, float)\n",
        "assert isinstance(string_variable, str)\n",
        "assert isinstance(bool_variable, bool)\n",
        "assert isinstance(list_variable, list)\n",
        "assert isinstance(tuple_variable, tuple)\n",
        "assert isinstance(set_variable, set)\n",
        "assert isinstance(dict_variable, dict)"
      ],
      "metadata": {
        "id": "8-uSDxkAN_bA"
      },
      "execution_count": 71,
      "outputs": []
    },
    {
      "cell_type": "markdown",
      "source": [
        "## 2.1 Различные функции"
      ],
      "metadata": {
        "id": "xNATtJ5vOw4S"
      }
    },
    {
      "cell_type": "code",
      "source": [
        "def difference_of_two_numbers(first, second):\n",
        "    \"\"\"Возвращает разницу между первым и вторым аргументом\"\"\"\n",
        "    return first - second\n",
        "\n",
        "\n",
        "assert difference_of_two_numbers(2, 1) == 1\n",
        "assert difference_of_two_numbers(4, 1) == 3\n",
        "assert difference_of_two_numbers(10, 0) == 10\n",
        "assert difference_of_two_numbers(-5, -6) == 1"
      ],
      "metadata": {
        "id": "p_qN-_ujO3cK"
      },
      "execution_count": 72,
      "outputs": []
    },
    {
      "cell_type": "code",
      "source": [
        "def condition_function(input_number):\n",
        "    \"\"\"\n",
        "    Если входное число меньше либо равно 0, то умножить его на 2.\n",
        "    В противном случае, если число больше 0, но меньше или равно 10, умножить на 3.\n",
        "    Во всех прочих случаях поделить на 10.\n",
        "    \"\"\"\n",
        "    if input_number <= 0:\n",
        "        output_number = 2 * input_number\n",
        "    elif (input_number > 0) and ( input_number <= 10):\n",
        "        output_number = 3 * input_number\n",
        "    else:\n",
        "        output_number = input_number/10\n",
        "    return output_number\n",
        "\n",
        "assert condition_function(0) == 0\n",
        "assert condition_function(-1) == -2\n",
        "assert condition_function(1) == 3\n",
        "assert condition_function(10) == 30\n",
        "assert condition_function(11) == 1.1\n",
        "assert condition_function(20) == 2"
      ],
      "metadata": {
        "id": "A1NgW8xIPRSp"
      },
      "execution_count": 73,
      "outputs": []
    },
    {
      "cell_type": "code",
      "source": [
        "def calculator(number_1, operation, number_2):\n",
        "    \"\"\"\n",
        "    Простой оператор, способный выполнять операции +, -, *, /.\n",
        "    На входе первое число, операция в виде строки и второе число.\n",
        "\n",
        "    Пример:\n",
        "    >>> calculator(1, \"+\", 1)\n",
        "    >>> 2\n",
        "    \"\"\"\n",
        "    match operation:\n",
        "        case \"+\":\n",
        "            answer = number_1 + number_2\n",
        "        case \"-\":\n",
        "            answer = number_1 - number_2\n",
        "        case \"*\":\n",
        "            answer = number_1 * number_2\n",
        "        case \"/\":\n",
        "            answer = number_1 / number_2\n",
        "    return answer\n",
        "\n",
        "\n",
        "assert calculator(1, \"+\", 2) == 3\n",
        "assert calculator(3, \"-\", 1) == 2\n",
        "assert calculator(4, \"*\", 3) == 12\n",
        "assert calculator(2, \"/\", 2) == 1"
      ],
      "metadata": {
        "id": "7AEulSfdQDWy"
      },
      "execution_count": 74,
      "outputs": []
    },
    {
      "cell_type": "code",
      "source": [
        "def number_of_unique_elements(input_list):\n",
        "    \"\"\"\n",
        "    Считает количество уникальных элементов в листе.\n",
        "    \"\"\"\n",
        "    some_dict = {}\n",
        "    for i in range(len(input_list)):\n",
        "        if input_list[i] in some_dict:\n",
        "            some_dict[input_list[i]] +=1\n",
        "        else:\n",
        "            some_dict[input_list[i]] =1\n",
        "    return len(some_dict)\n",
        "\n",
        "assert number_of_unique_elements([1, 2, 3]) == 3\n",
        "assert number_of_unique_elements([1] * 93) == 1\n",
        "assert number_of_unique_elements(list(range(1000))) == 1000"
      ],
      "metadata": {
        "id": "nJIVrlxNRCUs"
      },
      "execution_count": 75,
      "outputs": []
    },
    {
      "cell_type": "code",
      "source": [
        "def counter(input_list):\n",
        "    \"\"\"\n",
        "    Считает количество вхождений каждого из элементов листа.\n",
        "    Возвращает словарь вида {число: количество вхождений}\n",
        "\n",
        "    Замечание (!): встроенным в collections Counter'ом пользоваться нельзя\n",
        "\n",
        "    Например:\n",
        "    counter([1, 1, 2, 3]) вернет {1: 2, 2: 1, 3: 1}\n",
        "    \"\"\"\n",
        "    some_dict = {}\n",
        "    for i in range(len(input_list)):\n",
        "        if input_list[i] in some_dict:\n",
        "            some_dict[input_list[i]] +=1\n",
        "        else:\n",
        "            some_dict[input_list[i]] =1\n",
        "    return some_dict\n",
        "\n",
        "\n",
        "\n",
        "assert counter([1, 1, 1, 2, 3]) == {1: 3, 2: 1, 3: 1}\n",
        "assert counter([1] * 1000) == {1: 1000}\n",
        "assert counter([1, 3, 5] * 100) == {1: 100, 3: 100, 5: 100}"
      ],
      "metadata": {
        "id": "PlkGFpS9UHYU"
      },
      "execution_count": 76,
      "outputs": []
    },
    {
      "cell_type": "code",
      "source": [
        "def multiply_nums(input_string):\n",
        "    \"\"\"\n",
        "    Перемножить числа, переданные в строке, перечисленные через запятую.\n",
        "\n",
        "    hint: можно использовать метод .split()\n",
        "    \"\"\"\n",
        "    list_of_nums = input_string.split(', ')\n",
        "    result = 1\n",
        "    for num in list_of_nums:\n",
        "        result *= int(num)\n",
        "    return result\n",
        "\n",
        "\n",
        "assert multiply_nums(\"2, 3\") == 6\n",
        "assert multiply_nums(\"1, 1, 1, 1, 1, 1, 1\") == 1\n",
        "assert multiply_nums(\"345, 4576, 794, 325, 0\") == 0"
      ],
      "metadata": {
        "id": "CF-8rvjqXTSN"
      },
      "execution_count": 77,
      "outputs": []
    },
    {
      "cell_type": "code",
      "source": [
        "def custom_function(x):\n",
        "    \"\"\"\n",
        "    Реализуйте функцию, описанную выше.\n",
        "    \"\"\"\n",
        "    return math.sin(x) * math.cos(x)\n",
        "\n",
        "assert round(custom_function(1), 3) == 0.455\n",
        "assert round(custom_function(1.5), 3) == 0.071\n",
        "assert round(custom_function(2), 3) == -0.378\n",
        "assert custom_function(0) == 0"
      ],
      "metadata": {
        "id": "p4ApfSM1YuHq"
      },
      "execution_count": 78,
      "outputs": []
    },
    {
      "cell_type": "code",
      "source": [
        "def custom_function_1(x, n):\n",
        "    \"\"\"\n",
        "    Реализуйте функцию, описанную выше.\n",
        "    \"\"\"\n",
        "    result = 1\n",
        "    for i in range(1, n+1):\n",
        "        result *= (((i+2)**x + math.log(x))/(x**2 + 4*i))\n",
        "    return result\n",
        "\n",
        "assert round(custom_function_1(2, 3), 3) == 2.707\n",
        "assert round(custom_function_1(3, 2), 3) == 8.277\n",
        "assert round(custom_function_1(3, 3), 3) == 49.7"
      ],
      "metadata": {
        "id": "B5TW3HMNZD_0"
      },
      "execution_count": 79,
      "outputs": []
    },
    {
      "cell_type": "markdown",
      "source": [
        "## 2.2 Задачки на написание функций"
      ],
      "metadata": {
        "id": "2ZP3XSn2y4h5"
      }
    },
    {
      "cell_type": "code",
      "source": [
        "# Ваша задача здесь написать функцию time_converter (именно такое название)\n",
        "# она должна возвращать значения в виде строки 'hours minutes'\n",
        "\n",
        "def time_converter(n):\n",
        "    hours = n % (60 * 24) // 60\n",
        "    minutes = n % 60\n",
        "    l = [hours, minutes]\n",
        "    res = ' '.join(map(str, l))\n",
        "    return res\n",
        "\n",
        "assert time_converter(2782) == '22 22'\n",
        "assert time_converter(4733) == '6 53'\n",
        "assert time_converter(1766) == '5 26'\n",
        "assert time_converter(3865) == '16 25'\n",
        "assert time_converter(4628) == '5 8'\n",
        "assert time_converter(4353) == '0 33'\n",
        "assert time_converter(268) == '4 28'\n",
        "assert time_converter(4373) == '0 53'\n",
        "assert time_converter(2722) == '21 22'\n",
        "assert time_converter(1531) == '1 31'"
      ],
      "metadata": {
        "id": "FdIVmqAPetu1"
      },
      "execution_count": 80,
      "outputs": []
    },
    {
      "cell_type": "code",
      "source": [
        "# Написать функцию min_of_three_values, принимает на вход 3 аргумента\n",
        "\n",
        "def min_of_three_values(x, y, z):\n",
        "    if x <= y and x <= z:\n",
        "        res = x\n",
        "    elif  y <= x and y <= z:\n",
        "        res = y\n",
        "    else:\n",
        "        res = z\n",
        "    return res\n",
        "\n",
        "assert min_of_three_values(1, 2, 3) == 1\n",
        "assert min_of_three_values(1, 1, 9) == 1\n",
        "assert min_of_three_values(18, 7, 11) == 7\n",
        "assert min_of_three_values(2, 10, 10) == 2\n",
        "assert min_of_three_values(17, 14, 17) == 14\n",
        "assert min_of_three_values(9, 2, 10) == 2\n",
        "assert min_of_three_values(7, 4, 7) == 4\n",
        "assert min_of_three_values(0, 8, 3) == 0\n",
        "assert min_of_three_values(8, 10, 6) == 6\n",
        "assert min_of_three_values(1, 4, 8) == 1"
      ],
      "metadata": {
        "id": "FNDbfYWaf6oy"
      },
      "execution_count": 81,
      "outputs": []
    },
    {
      "cell_type": "code",
      "source": [
        "# Функция remove_symbol принимает два аргумента -- строку и символ, которые необходимо удалить\n",
        "def remove_symbol(string, symbol):\n",
        "    res = string.replace(symbol, \"\")\n",
        "    return res\n",
        "\n",
        "assert remove_symbol('aaaaaaaa', 'a') == ''\n",
        "assert remove_symbol('abababa', 'b') == 'aaaa'\n",
        "assert remove_symbol('12341234', '3') == '124124'"
      ],
      "metadata": {
        "id": "zPWPKZKFhA69"
      },
      "execution_count": 82,
      "outputs": []
    },
    {
      "cell_type": "code",
      "source": [
        "# Функция remove_each_third_sym принимает один агрумент -- строку.\n",
        "# важно -- мы считаем человеческие индексы (начиная с 1, а не 0)\n",
        "# важно -- оставляем первый аргумент\n",
        "# Необходимо вернуть новую строку\n",
        "\n",
        "def remove_each_third_sym(string):\n",
        "    res = ''\n",
        "    for i, char in enumerate(string, start=1):\n",
        "        if i%3 != 0:\n",
        "            res += char\n",
        "    return res\n",
        "\n",
        "assert remove_each_third_sym('abcdef') == 'abde'\n",
        "assert remove_each_third_sym('sdfasdfasdfsfa') == 'sdasfadffa'\n",
        "assert remove_each_third_sym('123456789') == '124578'\n",
        "assert remove_each_third_sym('987654321') == '986532'"
      ],
      "metadata": {
        "id": "_54riZ16n6O-"
      },
      "execution_count": 83,
      "outputs": []
    },
    {
      "cell_type": "code",
      "source": [
        "# Функция find_max принимает на вход лист\n",
        "# на выходе два числа -- непосредственно максимальное значение и его индекс\n",
        "def find_max(input_list):\n",
        "    max = 0\n",
        "    for i, num in enumerate(input_list):\n",
        "        if num > max:\n",
        "            max = num\n",
        "            index = i\n",
        "    return (max, index)\n",
        "\n",
        "assert find_max([1, 2, 3, 4, 5]) == (5, 4)\n",
        "assert find_max([5, 4, 3, 2, 1]) == (5, 0)\n",
        "assert find_max([96, 82, 72, 48, 93, 88, 79]) == (96, 0)\n",
        "assert find_max([49, 75, 65, 65, 65, 18]) == (75, 1)\n",
        "assert find_max([69, 16, 64, 54, 36, 70, 89, 29]) == (89, 6)\n",
        "assert find_max([17, 80, 27, 36, 21, 85, 63, 27]) == (85, 5)\n",
        "assert find_max([76, 27, 73, 65, 52]) == (76, 0)\n",
        "assert find_max([33, 26, 69, 40, 93]) == (93, 4)\n",
        "assert find_max([87, 5, 95, 52, 21, 76, 22]) == (95, 2)\n",
        "assert find_max([75, 18, 89, 99, 70]) == (99, 3)"
      ],
      "metadata": {
        "id": "TxxYnt9dspBB"
      },
      "execution_count": 84,
      "outputs": []
    },
    {
      "cell_type": "code",
      "source": [
        "# функция append_to_list принимает два значения -- лист и значение, которое необходимо вставить в конец листа\n",
        "# функция возвращает обновленный лист\n",
        "def append_to_list(input_list, new_value):\n",
        "    input_list.append(new_value)\n",
        "\n",
        "    return input_list\n",
        "\n",
        "assert append_to_list([1, 2], 3) == [1, 2, 3]\n",
        "assert append_to_list([1, 2], None) == [1, 2, None]\n",
        "assert append_to_list([1, 's'], True) == [1, 's', True]"
      ],
      "metadata": {
        "id": "tmlxE2Y6yD8c"
      },
      "execution_count": 85,
      "outputs": []
    },
    {
      "cell_type": "code",
      "source": [
        "# функция number_unique_elements принимает на вход лист\n",
        "# на выходе одно число -- количество уникальных элементов\n",
        "def number_unique_elements(input_list):\n",
        "    res_set = set(input_list)\n",
        "    return len(res_set)\n",
        "\n",
        "assert number_unique_elements([1, 2, 3]) == 3\n",
        "assert number_unique_elements([1, 2, 1]) == 2\n",
        "assert number_unique_elements([1, 1, 1, 1]) == 1\n",
        "assert number_unique_elements([1, 2, 1, 2]) == 2"
      ],
      "metadata": {
        "id": "bemXJxoQyRjb"
      },
      "execution_count": 86,
      "outputs": []
    },
    {
      "cell_type": "markdown",
      "source": [
        "## 3. Классы"
      ],
      "metadata": {
        "id": "dWCR3zH_yz-d"
      }
    },
    {
      "cell_type": "code",
      "source": [
        "class Vehicle:\n",
        "    def __init__(self, max_speed, mileage):\n",
        "        self.max_speed = max_speed\n",
        "        self.mileage = mileage\n",
        "\n",
        "\n",
        "veh1 = Vehicle(100, 50)\n",
        "assert (veh1.max_speed, veh1.mileage) == (100, 50)\n",
        "\n",
        "veh2 = Vehicle(200, 3)\n",
        "assert (veh2.max_speed, veh2.mileage) == (200, 3)"
      ],
      "metadata": {
        "id": "OOR2XxA6yvNT"
      },
      "execution_count": 87,
      "outputs": []
    },
    {
      "cell_type": "code",
      "source": [
        "class Truck(Vehicle):\n",
        "    # def __init__(self, max_speed, mileage):\n",
        "    #     super().\n",
        "    pass\n",
        "\n",
        "\n",
        "truck1 = Truck(50, 1000)\n",
        "assert (truck1.max_speed, truck1.mileage) == (50, 1000)\n",
        "\n",
        "truck2 = Truck(43, 235)\n",
        "assert (truck2.max_speed, truck2.mileage) == (43, 235)"
      ],
      "metadata": {
        "id": "9ZLWhuVXzcoa"
      },
      "execution_count": 88,
      "outputs": []
    },
    {
      "cell_type": "code",
      "source": [
        "class MyList:\n",
        "    def __init__(self, liist):\n",
        "        self.liist = liist\n",
        "        pass\n",
        "\n",
        "    def return_sum(self):\n",
        "        \"\"\"\n",
        "        Возвращает сумму всех элементов сохраненного листа.\n",
        "        Пользоваться sum нельзя!\n",
        "        \"\"\"\n",
        "        res = 0\n",
        "        for i in self.liist:\n",
        "            res += i\n",
        "        return res\n",
        "\n",
        "    def make_reverse(self):\n",
        "        \"\"\"\n",
        "        Разворачивает сохраненный лист.\n",
        "        \"\"\"\n",
        "        return self.liist[::-1]\n",
        "\n",
        "    def make_slice(self, start, stop):\n",
        "        \"\"\"\n",
        "        Делает слайсинг сохраненного листа.\n",
        "        \"\"\"\n",
        "        return self.liist[start:stop]\n",
        "\n",
        "\n",
        "a = MyList([1, 2, 3, 4])\n",
        "assert a.return_sum() == 10\n",
        "assert a.make_reverse() == [4, 3, 2, 1]\n",
        "assert a.make_slice(0, 2) == [1, 2]\n",
        "\n",
        "b = MyList([5, 6, 6, 5])\n",
        "assert b.return_sum() == 22\n",
        "assert b.make_reverse() == [5, 6, 6, 5]\n",
        "assert b.make_slice(1, 2) == [6]"
      ],
      "metadata": {
        "id": "jAy3B4rd2LNU"
      },
      "execution_count": 89,
      "outputs": []
    }
  ]
}